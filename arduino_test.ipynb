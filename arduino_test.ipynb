{
 "cells": [
  {
   "cell_type": "code",
   "execution_count": 4,
   "id": "c84a0431",
   "metadata": {},
   "outputs": [],
   "source": [
    "from system.mightypix_new_pixel import Run2021\n",
    "import numpy as np\n",
    "from run2021_daq.system.mio3 import MIO3\n",
    "import run2021_daq.analysis.interpreter_clean as interpreter\n",
    "import run2021_daq.analysis.analysis_utils as au\n",
    "\n",
    "\n",
    "\n",
    "\n"
   ]
  },
  {
   "cell_type": "code",
   "execution_count": 5,
   "id": "89774257",
   "metadata": {},
   "outputs": [
    {
     "name": "stderr",
     "output_type": "stream",
     "text": [
      "2025-05-14 10:18:23,065 [basil.HL.GPAC_MightyPix] - INFO    General Purpose Analog Card (GPAC): skip reading calibration parameters from EEPROM\n",
      "2025-05-14 10:18:23,075 [Run2021 - ChipW00R00] - INFO    Setting Vminus to 0.8\n",
      "2025-05-14 10:18:23,079 [Run2021 - ChipW00R00] - INFO    Setting TH1 to 1.2\n",
      "2025-05-14 10:18:23,082 [Run2021 - ChipW00R00] - INFO    Setting BL to 0.94\n",
      "2025-05-14 10:18:23,085 [Run2021 - ChipW00R00] - INFO    Setting VDDR to 1.8\n",
      "2025-05-14 10:18:23,086 [basil.HL.GPAC_MightyPix] - WARNING VOUTD DAC value reached maximum value\n",
      "2025-05-14 10:18:23,090 [Run2021 - ChipW00R00] - INFO    Setting TH2 to 1.8\n",
      "2025-05-14 10:18:23,090 [basil.HL.GPAC_MightyPix] - WARNING VOUTE DAC value reached maximum value\n",
      "2025-05-14 10:18:23,093 [Run2021 - ChipW00R00] - INFO    Setting TH3 to 1.2\n",
      "2025-05-14 10:18:23,099 [Run2021 - ChipW00R00] - INFO    Setting ThPix to 255 : 1.7850000000000001V\n",
      "2025-05-14 10:18:23,100 [Run2021 - ChipW00R00] - INFO    Setting BlPix to 133 : 0.931V\n",
      "2025-05-14 10:18:23,102 [Run2021 - ChipW00R00] - INFO    Setting ThPix2 to 160 : 1.12V\n",
      "2025-05-14 10:18:23,103 [Run2021 - ChipW00R00] - INFO    Setting VCASC2 to 128 : 0.896V\n",
      "2025-05-14 10:18:30,956 [Run2021 - ChipW00R00] - INFO    set_en_hitbus: en_hitbus_col=0x1fffffff\n"
     ]
    },
    {
     "data": {
      "text/plain": [
       "True"
      ]
     },
     "execution_count": 5,
     "metadata": {},
     "output_type": "execute_result"
    }
   ],
   "source": [
    "daq = MIO3(conf=\"system/mio3.yaml\")\n",
    "daq.init()\n",
    "\n",
    "chip = Run2021(daq, conf=daq.configuration)\n",
    "chip.init()\n",
    "\n",
    "start_column=0\n",
    "stop_column=29\n",
    "start_row=0\n",
    "stop_row=124\n",
    "\n",
    "chip.masks['enable'][start_column:stop_column, start_row:stop_row] = True\n",
    "chip.masks['injection'][start_column:stop_column, start_row:stop_row] = True\n",
    "\n",
    "chip.masks.apply_disable_mask()\n",
    "chip.masks.update()"
   ]
  },
  {
   "cell_type": "code",
   "execution_count": 6,
   "id": "a6ec929b",
   "metadata": {},
   "outputs": [
    {
     "name": "stdout",
     "output_type": "stream",
     "text": [
      "ASRL/dev/ttyUSB0::INSTR\n",
      "SerialInstrument at ASRL/dev/ttyUSB0::INSTR\n",
      "HAMEG,HMP4040,105763,HW50020001/SW2.51\n",
      "\n",
      "Scanning VN DAC values...\n"
     ]
    },
    {
     "name": "stderr",
     "output_type": "stream",
     "text": [
      "2025-05-14 10:22:59,492 [Run2021 - ChipW00R00] - INFO    Setting Vminus to 0.8\n",
      "2025-05-14 10:22:59,496 [Run2021 - ChipW00R00] - INFO    Setting TH1 to 1.2\n",
      "2025-05-14 10:22:59,499 [Run2021 - ChipW00R00] - INFO    Setting BL to 0.94\n",
      "2025-05-14 10:22:59,502 [Run2021 - ChipW00R00] - INFO    Setting VDDR to 1.8\n",
      "2025-05-14 10:22:59,502 [basil.HL.GPAC_MightyPix] - WARNING VOUTD DAC value reached maximum value\n",
      "2025-05-14 10:22:59,506 [Run2021 - ChipW00R00] - INFO    Setting TH2 to 1.8\n",
      "2025-05-14 10:22:59,506 [basil.HL.GPAC_MightyPix] - WARNING VOUTE DAC value reached maximum value\n",
      "2025-05-14 10:22:59,510 [Run2021 - ChipW00R00] - INFO    Setting TH3 to 1.2\n",
      "2025-05-14 10:22:59,516 [Run2021 - ChipW00R00] - INFO    Setting ThPix to 255 : 1.7850000000000001V\n",
      "2025-05-14 10:22:59,517 [Run2021 - ChipW00R00] - INFO    Setting BlPix to 133 : 0.931V\n",
      "2025-05-14 10:22:59,519 [Run2021 - ChipW00R00] - INFO    Setting ThPix2 to 160 : 1.12V\n",
      "2025-05-14 10:22:59,520 [Run2021 - ChipW00R00] - INFO    Setting VCASC2 to 128 : 0.896V\n"
     ]
    },
    {
     "name": "stdout",
     "output_type": "stream",
     "text": [
      "Scanning IPLoad DAC values...\n"
     ]
    },
    {
     "name": "stderr",
     "output_type": "stream",
     "text": [
      "2025-05-14 10:26:42,875 [Run2021 - ChipW00R00] - INFO    Setting Vminus to 0.8\n",
      "2025-05-14 10:26:42,879 [Run2021 - ChipW00R00] - INFO    Setting TH1 to 1.2\n",
      "2025-05-14 10:26:42,883 [Run2021 - ChipW00R00] - INFO    Setting BL to 0.94\n",
      "2025-05-14 10:26:42,886 [Run2021 - ChipW00R00] - INFO    Setting VDDR to 1.8\n",
      "2025-05-14 10:26:42,886 [basil.HL.GPAC_MightyPix] - WARNING VOUTD DAC value reached maximum value\n",
      "2025-05-14 10:26:42,890 [Run2021 - ChipW00R00] - INFO    Setting TH2 to 1.8\n",
      "2025-05-14 10:26:42,890 [basil.HL.GPAC_MightyPix] - WARNING VOUTE DAC value reached maximum value\n",
      "2025-05-14 10:26:42,894 [Run2021 - ChipW00R00] - INFO    Setting TH3 to 1.2\n",
      "2025-05-14 10:26:42,900 [Run2021 - ChipW00R00] - INFO    Setting ThPix to 255 : 1.7850000000000001V\n",
      "2025-05-14 10:26:42,902 [Run2021 - ChipW00R00] - INFO    Setting BlPix to 133 : 0.931V\n",
      "2025-05-14 10:26:42,903 [Run2021 - ChipW00R00] - INFO    Setting ThPix2 to 160 : 1.12V\n",
      "2025-05-14 10:26:42,904 [Run2021 - ChipW00R00] - INFO    Setting VCASC2 to 128 : 0.896V\n",
      "2025-05-14 10:26:42,936 [Run2021 - ChipW00R00] - INFO    set_en_hitbus: en_hitbus_col=0x1fffffff\n"
     ]
    },
    {
     "name": "stdout",
     "output_type": "stream",
     "text": [
      "Scanning VNFoll DAC values...\n"
     ]
    },
    {
     "name": "stderr",
     "output_type": "stream",
     "text": [
      "2025-05-14 10:30:26,307 [Run2021 - ChipW00R00] - INFO    Setting Vminus to 0.8\n",
      "2025-05-14 10:30:26,311 [Run2021 - ChipW00R00] - INFO    Setting TH1 to 1.2\n",
      "2025-05-14 10:30:26,314 [Run2021 - ChipW00R00] - INFO    Setting BL to 0.94\n",
      "2025-05-14 10:30:26,317 [Run2021 - ChipW00R00] - INFO    Setting VDDR to 1.8\n",
      "2025-05-14 10:30:26,317 [basil.HL.GPAC_MightyPix] - WARNING VOUTD DAC value reached maximum value\n",
      "2025-05-14 10:30:26,321 [Run2021 - ChipW00R00] - INFO    Setting TH2 to 1.8\n",
      "2025-05-14 10:30:26,321 [basil.HL.GPAC_MightyPix] - WARNING VOUTE DAC value reached maximum value\n",
      "2025-05-14 10:30:26,324 [Run2021 - ChipW00R00] - INFO    Setting TH3 to 1.2\n",
      "2025-05-14 10:30:26,330 [Run2021 - ChipW00R00] - INFO    Setting ThPix to 255 : 1.7850000000000001V\n",
      "2025-05-14 10:30:26,331 [Run2021 - ChipW00R00] - INFO    Setting BlPix to 133 : 0.931V\n",
      "2025-05-14 10:30:26,332 [Run2021 - ChipW00R00] - INFO    Setting ThPix2 to 160 : 1.12V\n",
      "2025-05-14 10:30:26,333 [Run2021 - ChipW00R00] - INFO    Setting VCASC2 to 128 : 0.896V\n",
      "2025-05-14 10:30:26,365 [Run2021 - ChipW00R00] - INFO    set_en_hitbus: en_hitbus_col=0x1fffffff\n"
     ]
    },
    {
     "name": "stdout",
     "output_type": "stream",
     "text": [
      "Scanning INFB DAC values...\n"
     ]
    },
    {
     "name": "stderr",
     "output_type": "stream",
     "text": [
      "2025-05-14 10:34:08,170 [Run2021 - ChipW00R00] - INFO    Setting Vminus to 0.8\n",
      "2025-05-14 10:34:08,173 [Run2021 - ChipW00R00] - INFO    Setting TH1 to 1.2\n",
      "2025-05-14 10:34:08,177 [Run2021 - ChipW00R00] - INFO    Setting BL to 0.94\n",
      "2025-05-14 10:34:08,180 [Run2021 - ChipW00R00] - INFO    Setting VDDR to 1.8\n",
      "2025-05-14 10:34:08,180 [basil.HL.GPAC_MightyPix] - WARNING VOUTD DAC value reached maximum value\n",
      "2025-05-14 10:34:08,184 [Run2021 - ChipW00R00] - INFO    Setting TH2 to 1.8\n",
      "2025-05-14 10:34:08,185 [basil.HL.GPAC_MightyPix] - WARNING VOUTE DAC value reached maximum value\n",
      "2025-05-14 10:34:08,188 [Run2021 - ChipW00R00] - INFO    Setting TH3 to 1.2\n",
      "2025-05-14 10:34:08,194 [Run2021 - ChipW00R00] - INFO    Setting ThPix to 255 : 1.7850000000000001V\n",
      "2025-05-14 10:34:08,195 [Run2021 - ChipW00R00] - INFO    Setting BlPix to 133 : 0.931V\n",
      "2025-05-14 10:34:08,197 [Run2021 - ChipW00R00] - INFO    Setting ThPix2 to 160 : 1.12V\n",
      "2025-05-14 10:34:08,198 [Run2021 - ChipW00R00] - INFO    Setting VCASC2 to 128 : 0.896V\n",
      "2025-05-14 10:34:08,230 [Run2021 - ChipW00R00] - INFO    set_en_hitbus: en_hitbus_col=0x1fffffff\n"
     ]
    },
    {
     "name": "stdout",
     "output_type": "stream",
     "text": [
      "Scanning IBLRes DAC values...\n"
     ]
    },
    {
     "name": "stderr",
     "output_type": "stream",
     "text": [
      "2025-05-14 10:37:54,816 [Run2021 - ChipW00R00] - INFO    Setting Vminus to 0.8\n",
      "2025-05-14 10:37:54,820 [Run2021 - ChipW00R00] - INFO    Setting TH1 to 1.2\n",
      "2025-05-14 10:37:54,823 [Run2021 - ChipW00R00] - INFO    Setting BL to 0.94\n",
      "2025-05-14 10:37:54,826 [Run2021 - ChipW00R00] - INFO    Setting VDDR to 1.8\n",
      "2025-05-14 10:37:54,827 [basil.HL.GPAC_MightyPix] - WARNING VOUTD DAC value reached maximum value\n",
      "2025-05-14 10:37:54,830 [Run2021 - ChipW00R00] - INFO    Setting TH2 to 1.8\n",
      "2025-05-14 10:37:54,831 [basil.HL.GPAC_MightyPix] - WARNING VOUTE DAC value reached maximum value\n",
      "2025-05-14 10:37:54,836 [Run2021 - ChipW00R00] - INFO    Setting TH3 to 1.2\n",
      "2025-05-14 10:37:54,843 [Run2021 - ChipW00R00] - INFO    Setting ThPix to 255 : 1.7850000000000001V\n",
      "2025-05-14 10:37:54,844 [Run2021 - ChipW00R00] - INFO    Setting BlPix to 133 : 0.931V\n",
      "2025-05-14 10:37:54,846 [Run2021 - ChipW00R00] - INFO    Setting ThPix2 to 160 : 1.12V\n",
      "2025-05-14 10:37:54,848 [Run2021 - ChipW00R00] - INFO    Setting VCASC2 to 128 : 0.896V\n",
      "2025-05-14 10:37:54,881 [Run2021 - ChipW00R00] - INFO    set_en_hitbus: en_hitbus_col=0x1fffffff\n"
     ]
    },
    {
     "name": "stdout",
     "output_type": "stream",
     "text": [
      "Scanning VNComp DAC values...\n"
     ]
    },
    {
     "name": "stderr",
     "output_type": "stream",
     "text": [
      "2025-05-14 10:41:40,503 [Run2021 - ChipW00R00] - INFO    Setting Vminus to 0.8\n",
      "2025-05-14 10:41:40,507 [Run2021 - ChipW00R00] - INFO    Setting TH1 to 1.2\n",
      "2025-05-14 10:41:40,510 [Run2021 - ChipW00R00] - INFO    Setting BL to 0.94\n",
      "2025-05-14 10:41:40,514 [Run2021 - ChipW00R00] - INFO    Setting VDDR to 1.8\n",
      "2025-05-14 10:41:40,514 [basil.HL.GPAC_MightyPix] - WARNING VOUTD DAC value reached maximum value\n",
      "2025-05-14 10:41:40,517 [Run2021 - ChipW00R00] - INFO    Setting TH2 to 1.8\n",
      "2025-05-14 10:41:40,518 [basil.HL.GPAC_MightyPix] - WARNING VOUTE DAC value reached maximum value\n",
      "2025-05-14 10:41:40,521 [Run2021 - ChipW00R00] - INFO    Setting TH3 to 1.2\n",
      "2025-05-14 10:41:40,528 [Run2021 - ChipW00R00] - INFO    Setting ThPix to 255 : 1.7850000000000001V\n",
      "2025-05-14 10:41:40,529 [Run2021 - ChipW00R00] - INFO    Setting BlPix to 133 : 0.931V\n",
      "2025-05-14 10:41:40,530 [Run2021 - ChipW00R00] - INFO    Setting ThPix2 to 160 : 1.12V\n",
      "2025-05-14 10:41:40,532 [Run2021 - ChipW00R00] - INFO    Setting VCASC2 to 128 : 0.896V\n",
      "2025-05-14 10:41:40,564 [Run2021 - ChipW00R00] - INFO    set_en_hitbus: en_hitbus_col=0x1fffffff\n"
     ]
    },
    {
     "name": "stdout",
     "output_type": "stream",
     "text": [
      "Scanning IPDAC DAC values...\n"
     ]
    },
    {
     "name": "stderr",
     "output_type": "stream",
     "text": [
      "2025-05-14 10:45:26,367 [Run2021 - ChipW00R00] - INFO    Setting Vminus to 0.8\n",
      "2025-05-14 10:45:26,371 [Run2021 - ChipW00R00] - INFO    Setting TH1 to 1.2\n",
      "2025-05-14 10:45:26,374 [Run2021 - ChipW00R00] - INFO    Setting BL to 0.94\n",
      "2025-05-14 10:45:26,378 [Run2021 - ChipW00R00] - INFO    Setting VDDR to 1.8\n",
      "2025-05-14 10:45:26,378 [basil.HL.GPAC_MightyPix] - WARNING VOUTD DAC value reached maximum value\n",
      "2025-05-14 10:45:26,381 [Run2021 - ChipW00R00] - INFO    Setting TH2 to 1.8\n",
      "2025-05-14 10:45:26,382 [basil.HL.GPAC_MightyPix] - WARNING VOUTE DAC value reached maximum value\n",
      "2025-05-14 10:45:26,385 [Run2021 - ChipW00R00] - INFO    Setting TH3 to 1.2\n",
      "2025-05-14 10:45:26,391 [Run2021 - ChipW00R00] - INFO    Setting ThPix to 255 : 1.7850000000000001V\n",
      "2025-05-14 10:45:26,392 [Run2021 - ChipW00R00] - INFO    Setting BlPix to 133 : 0.931V\n",
      "2025-05-14 10:45:26,393 [Run2021 - ChipW00R00] - INFO    Setting ThPix2 to 160 : 1.12V\n",
      "2025-05-14 10:45:26,395 [Run2021 - ChipW00R00] - INFO    Setting VCASC2 to 128 : 0.896V\n",
      "2025-05-14 10:45:26,428 [Run2021 - ChipW00R00] - INFO    set_en_hitbus: en_hitbus_col=0x1fffffff\n"
     ]
    },
    {
     "name": "stdout",
     "output_type": "stream",
     "text": [
      "Scanning VNBiasRec DAC values...\n"
     ]
    },
    {
     "name": "stderr",
     "output_type": "stream",
     "text": [
      "2025-05-14 10:49:07,461 [Run2021 - ChipW00R00] - INFO    Setting Vminus to 0.8\n",
      "2025-05-14 10:49:07,464 [Run2021 - ChipW00R00] - INFO    Setting TH1 to 1.2\n",
      "2025-05-14 10:49:07,468 [Run2021 - ChipW00R00] - INFO    Setting BL to 0.94\n",
      "2025-05-14 10:49:07,471 [Run2021 - ChipW00R00] - INFO    Setting VDDR to 1.8\n",
      "2025-05-14 10:49:07,472 [basil.HL.GPAC_MightyPix] - WARNING VOUTD DAC value reached maximum value\n",
      "2025-05-14 10:49:07,475 [Run2021 - ChipW00R00] - INFO    Setting TH2 to 1.8\n",
      "2025-05-14 10:49:07,475 [basil.HL.GPAC_MightyPix] - WARNING VOUTE DAC value reached maximum value\n",
      "2025-05-14 10:49:07,479 [Run2021 - ChipW00R00] - INFO    Setting TH3 to 1.2\n",
      "2025-05-14 10:49:07,485 [Run2021 - ChipW00R00] - INFO    Setting ThPix to 255 : 1.7850000000000001V\n",
      "2025-05-14 10:49:07,487 [Run2021 - ChipW00R00] - INFO    Setting BlPix to 133 : 0.931V\n",
      "2025-05-14 10:49:07,488 [Run2021 - ChipW00R00] - INFO    Setting ThPix2 to 160 : 1.12V\n",
      "2025-05-14 10:49:07,489 [Run2021 - ChipW00R00] - INFO    Setting VCASC2 to 128 : 0.896V\n",
      "2025-05-14 10:49:07,522 [Run2021 - ChipW00R00] - INFO    set_en_hitbus: en_hitbus_col=0x1fffffff\n"
     ]
    },
    {
     "name": "stdout",
     "output_type": "stream",
     "text": [
      "Scanning IPBiasRec DAC values...\n"
     ]
    },
    {
     "name": "stderr",
     "output_type": "stream",
     "text": [
      "2025-05-14 10:52:53,260 [Run2021 - ChipW00R00] - INFO    Setting Vminus to 0.8\n",
      "2025-05-14 10:52:53,264 [Run2021 - ChipW00R00] - INFO    Setting TH1 to 1.2\n",
      "2025-05-14 10:52:53,267 [Run2021 - ChipW00R00] - INFO    Setting BL to 0.94\n",
      "2025-05-14 10:52:53,270 [Run2021 - ChipW00R00] - INFO    Setting VDDR to 1.8\n",
      "2025-05-14 10:52:53,270 [basil.HL.GPAC_MightyPix] - WARNING VOUTD DAC value reached maximum value\n",
      "2025-05-14 10:52:53,274 [Run2021 - ChipW00R00] - INFO    Setting TH2 to 1.8\n",
      "2025-05-14 10:52:53,274 [basil.HL.GPAC_MightyPix] - WARNING VOUTE DAC value reached maximum value\n",
      "2025-05-14 10:52:53,277 [Run2021 - ChipW00R00] - INFO    Setting TH3 to 1.2\n",
      "2025-05-14 10:52:53,282 [Run2021 - ChipW00R00] - INFO    Setting ThPix to 255 : 1.7850000000000001V\n",
      "2025-05-14 10:52:53,284 [Run2021 - ChipW00R00] - INFO    Setting BlPix to 133 : 0.931V\n",
      "2025-05-14 10:52:53,285 [Run2021 - ChipW00R00] - INFO    Setting ThPix2 to 160 : 1.12V\n",
      "2025-05-14 10:52:53,286 [Run2021 - ChipW00R00] - INFO    Setting VCASC2 to 128 : 0.896V\n",
      "2025-05-14 10:52:53,318 [Run2021 - ChipW00R00] - INFO    set_en_hitbus: en_hitbus_col=0x1fffffff\n"
     ]
    },
    {
     "name": "stdout",
     "output_type": "stream",
     "text": [
      "Scanning VNDel DAC values...\n"
     ]
    },
    {
     "name": "stderr",
     "output_type": "stream",
     "text": [
      "2025-05-14 10:56:37,506 [Run2021 - ChipW00R00] - INFO    Setting Vminus to 0.8\n",
      "2025-05-14 10:56:37,510 [Run2021 - ChipW00R00] - INFO    Setting TH1 to 1.2\n",
      "2025-05-14 10:56:37,514 [Run2021 - ChipW00R00] - INFO    Setting BL to 0.94\n",
      "2025-05-14 10:56:37,517 [Run2021 - ChipW00R00] - INFO    Setting VDDR to 1.8\n",
      "2025-05-14 10:56:37,517 [basil.HL.GPAC_MightyPix] - WARNING VOUTD DAC value reached maximum value\n",
      "2025-05-14 10:56:37,520 [Run2021 - ChipW00R00] - INFO    Setting TH2 to 1.8\n",
      "2025-05-14 10:56:37,521 [basil.HL.GPAC_MightyPix] - WARNING VOUTE DAC value reached maximum value\n",
      "2025-05-14 10:56:37,524 [Run2021 - ChipW00R00] - INFO    Setting TH3 to 1.2\n",
      "2025-05-14 10:56:37,530 [Run2021 - ChipW00R00] - INFO    Setting ThPix to 255 : 1.7850000000000001V\n",
      "2025-05-14 10:56:37,532 [Run2021 - ChipW00R00] - INFO    Setting BlPix to 133 : 0.931V\n",
      "2025-05-14 10:56:37,533 [Run2021 - ChipW00R00] - INFO    Setting ThPix2 to 160 : 1.12V\n",
      "2025-05-14 10:56:37,534 [Run2021 - ChipW00R00] - INFO    Setting VCASC2 to 128 : 0.896V\n",
      "2025-05-14 10:56:37,568 [Run2021 - ChipW00R00] - INFO    set_en_hitbus: en_hitbus_col=0x1fffffff\n"
     ]
    }
   ],
   "source": [
    "import sys\n",
    "import os\n",
    "import time\n",
    "from datetime import datetime\n",
    "from pyvisa import ResourceManager\n",
    "import serial.tools.list_ports\n",
    "from arduino_powersup import arduino, read_hw_mean, arduino_power_plot\n",
    "sys.path.append(\"/home/lab/daq/power_supply_monitoring\")\n",
    "from hmp4040_interface import *\n",
    "\n",
    "\n",
    "rm = ResourceManager()\n",
    "address='ASRL/dev/ttyUSB0::INSTR'\n",
    "hw = HMP4040(address,rm,\"HO720\",max_channels=4)\n",
    "ports = serial.tools.list_ports.comports()\n",
    "\n",
    "\n",
    "def write_csv(data, filename):\n",
    "    with open(filename, 'a') as file:\n",
    "        file.write(f'{data}\\n')\n",
    "\n",
    "\n",
    "\n",
    "\n",
    "\n",
    "dac_names = ['VN', 'IPLoad', 'VNFoll','INFB', 'IBLRes', 'VNComp', 'IPDAC',  'VNBiasRec', 'IPBiasRec', 'VNDel'] # DAC names to be used in the test\n",
    "pin_mapping = { # maps the arduino pins to the chips pin descriptions. (code 0-7 -> ard left A0-A7), (code 8-15 -> ard right A0-A7)\n",
    "    0: 'IPDAC',\n",
    "    1: \"VNDel\",\n",
    "    2: \"VNBiasRec\",\n",
    "    3: \"IPBiasRec\",\n",
    "    8: \"IBLRes\",\n",
    "    9: \"VN\",\n",
    "    10: \"INFB\",\n",
    "    11: \"VNFoll\",\n",
    "    12: \"IPLoad\",\n",
    "    13: \"VNComp\"\n",
    "}\n",
    "\n",
    "BestrahlungsNummer = '50kRad'\n",
    "chip_id = '001'\n",
    "path = f'output_data/tid/Max/{BestrahlungsNummer}/90V/dac_power/'\n",
    "infostring = f'temp = 20°C \\n HV = -90V'\n",
    "\n",
    "\n",
    "for dac_name in dac_names:\n",
    "    directory = f'{path}{dac_name}/'\n",
    "    if not os.path.exists(directory):\n",
    "        os.makedirs(directory)\n",
    "\n",
    "    timestamp = datetime.now().strftime('%Y%m%d_%H%M%S')\n",
    "    header = f\"DAC_name, DAC_set_value, DAC_measured, vddd_volt, vddd_curr, vddd_powr, vdda_volt, vdda_curr, vdda_powr, timestamp\"\n",
    "    filename = f\"{directory}/{dac_name}_{BestrahlungsNummer}_chip{chip_id}_{timestamp}.csv\"\n",
    "    write_csv(header, filename)\n",
    "    print(f\"Scanning {dac_name} DAC values...\")\n",
    "\n",
    "    for dac_value in range(64):\n",
    "        chip.daq['CONF_SR'][dac_name] = dac_value\n",
    "        chip.daq['CONF_SR'].write()\n",
    "        time.sleep(0.5)\n",
    "\n",
    "        ar_values = arduino(24, pin_mapping) # Nummer = Anzahl an Messungen aus dem der mittelwert gebildet wird, pin_mapping = Pin Mapping (0-15) \n",
    "        hw_values = read_hw_mean(hw, channel1 = 1, channel2 = 2, n = 24) # hw braucht er zum auslesen. channel 1 und 2 sind die CH Kanäle des Netzteils. n ist Anzahl an Messungen, aus denen der Mittelwert gebildet wird\n",
    "        \n",
    "        data = f\"{dac_name}, {dac_value}, {ar_values[dac_name][0]}, {hw_values['vddd_volt']}, {hw_values['vddd_curr']}, {hw_values['vddd_powr']}, {hw_values['vdda_volt']}, {hw_values['vdda_curr']}, {hw_values['vdda_powr']}, {timestamp}\"\n",
    "        write_csv(data, filename)\n",
    "    chip.init()\n",
    "    arduino_power_plot(path, path, infostring, save=False)\n",
    "    time.sleep(2)\n",
    "\n",
    "arduino_power_plot(path, path, infostring, save=True)\n",
    "\n",
    "    "
   ]
  }
 ],
 "metadata": {
  "kernelspec": {
   "display_name": "base",
   "language": "python",
   "name": "python3"
  },
  "language_info": {
   "codemirror_mode": {
    "name": "ipython",
    "version": 3
   },
   "file_extension": ".py",
   "mimetype": "text/x-python",
   "name": "python",
   "nbconvert_exporter": "python",
   "pygments_lexer": "ipython3",
   "version": "3.12.9"
  }
 },
 "nbformat": 4,
 "nbformat_minor": 5
}
